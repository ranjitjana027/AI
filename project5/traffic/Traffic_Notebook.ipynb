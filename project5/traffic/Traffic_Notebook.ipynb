{
 "cells": [
  {
   "cell_type": "code",
   "execution_count": 1,
   "metadata": {},
   "outputs": [],
   "source": [
    "import cv2\n",
    "import numpy as np\n",
    "import os\n",
    "import sys\n",
    "import tensorflow as tf"
   ]
  },
  {
   "cell_type": "code",
   "execution_count": 2,
   "metadata": {},
   "outputs": [],
   "source": [
    "from sklearn.model_selection import train_test_split\n",
    "\n",
    "EPOCHS = 10\n",
    "IMG_WIDTH = 30\n",
    "IMG_HEIGHT = 30\n",
    "NUM_CATEGORIES = 43\n",
    "TEST_SIZE = 0.4"
   ]
  },
  {
   "cell_type": "code",
   "execution_count": 3,
   "metadata": {},
   "outputs": [],
   "source": [
    "def load_data(data_dir):\n",
    "    images=[]\n",
    "    labels=[]\n",
    "    for category in os.listdir(data_dir):\n",
    "        for imfile in os.listdir(os.path.join(data_dir,category)):\n",
    "            img=cv2.imread(os.path.join(data_dir,category,imfile),1)\n",
    "            if img is not None:\n",
    "                img=cv2.resize(img,(IMG_WIDTH,IMG_HEIGHT))\n",
    "                #print(img.shape)\n",
    "                images.append(img)\n",
    "                labels.append(int(category))\n",
    "    return (images,labels)"
   ]
  },
  {
   "cell_type": "code",
   "execution_count": 4,
   "metadata": {},
   "outputs": [],
   "source": [
    "def get_model():\n",
    "    model=tf.keras.models.Sequential([\n",
    "        tf.keras.layers.Conv2D(\n",
    "            16,(3,3),activation='relu', input_shape=(IMG_WIDTH,IMG_HEIGHT,3)\n",
    "        ),\n",
    "        tf.keras.layers.Conv2D(\n",
    "            32,(3,3),activation='relu'\n",
    "        ),\n",
    "        \n",
    "        tf.keras.layers.MaxPooling2D(pool_size=(2,2)),\n",
    "        tf.keras.layers.MaxPooling2D(pool_size=(4,4)),\n",
    "        tf.keras.layers.Flatten(),\n",
    "    \n",
    "        tf.keras.layers.Dense(128,activation=\"relu\"),\n",
    "        tf.keras.layers.Dropout(0.2),\n",
    "        tf.keras.layers.Dense(128,activation=\"relu\"),\n",
    "        tf.keras.layers.Dropout(0.3),\n",
    "        tf.keras.layers.Dense(NUM_CATEGORIES,activation=\"softmax\")\n",
    "    ])\n",
    "    model.compile(\n",
    "        optimizer=\"adam\",\n",
    "        loss=\"categorical_crossentropy\",\n",
    "        metrics=[\"accuracy\"]\n",
    "    )\n",
    "    return model"
   ]
  },
  {
   "cell_type": "code",
   "execution_count": 5,
   "metadata": {},
   "outputs": [],
   "source": [
    "images, labels = load_data('gtsrb')"
   ]
  },
  {
   "cell_type": "code",
   "execution_count": 6,
   "metadata": {},
   "outputs": [],
   "source": [
    "labels = tf.keras.utils.to_categorical(labels)\n",
    "x_train, x_test, y_train, y_test = train_test_split(\n",
    "    np.array(images), np.array(labels), test_size=TEST_SIZE\n",
    ")"
   ]
  },
  {
   "cell_type": "code",
   "execution_count": 123,
   "metadata": {},
   "outputs": [
    {
     "name": "stdout",
     "output_type": "stream",
     "text": [
      "Model: \"sequential_30\"\n",
      "_________________________________________________________________\n",
      "Layer (type)                 Output Shape              Param #   \n",
      "=================================================================\n",
      "conv2d_44 (Conv2D)           (None, 28, 28, 16)        448       \n",
      "_________________________________________________________________\n",
      "conv2d_45 (Conv2D)           (None, 26, 26, 32)        4640      \n",
      "_________________________________________________________________\n",
      "max_pooling2d_39 (MaxPooling (None, 13, 13, 32)        0         \n",
      "_________________________________________________________________\n",
      "max_pooling2d_40 (MaxPooling (None, 3, 3, 32)          0         \n",
      "_________________________________________________________________\n",
      "flatten_30 (Flatten)         (None, 288)               0         \n",
      "_________________________________________________________________\n",
      "dense_73 (Dense)             (None, 128)               36992     \n",
      "_________________________________________________________________\n",
      "dropout_26 (Dropout)         (None, 128)               0         \n",
      "_________________________________________________________________\n",
      "dense_74 (Dense)             (None, 128)               16512     \n",
      "_________________________________________________________________\n",
      "dropout_27 (Dropout)         (None, 128)               0         \n",
      "_________________________________________________________________\n",
      "dense_75 (Dense)             (None, 43)                5547      \n",
      "=================================================================\n",
      "Total params: 64,139\n",
      "Trainable params: 64,139\n",
      "Non-trainable params: 0\n",
      "_________________________________________________________________\n"
     ]
    }
   ],
   "source": [
    "model=get_model()\n",
    "model.summary()"
   ]
  },
  {
   "cell_type": "code",
   "execution_count": null,
   "metadata": {},
   "outputs": [
    {
     "name": "stdout",
     "output_type": "stream",
     "text": [
      "Epoch 1/10\n",
      "500/500 [==============================] - 24s 47ms/step - loss: 3.0623 - accuracy: 0.2570\n",
      "Epoch 2/10\n",
      "500/500 [==============================] - 22s 44ms/step - loss: 1.6369 - accuracy: 0.5109\n",
      "Epoch 3/10\n",
      "500/500 [==============================] - 23s 46ms/step - loss: 1.1087 - accuracy: 0.6563\n",
      "Epoch 4/10\n",
      "500/500 [==============================] - 23s 45ms/step - loss: 0.8237 - accuracy: 0.7464\n",
      "Epoch 5/10\n",
      "500/500 [==============================] - 22s 45ms/step - loss: 0.6553 - accuracy: 0.7941\n",
      "Epoch 6/10\n",
      "500/500 [==============================] - 23s 47ms/step - loss: 0.5095 - accuracy: 0.8452\n",
      "Epoch 7/10\n",
      "500/500 [==============================] - 24s 48ms/step - loss: 0.4649 - accuracy: 0.8636\n",
      "Epoch 8/10\n",
      "500/500 [==============================] - 28s 56ms/step - loss: 0.3831 - accuracy: 0.8829\n",
      "Epoch 9/10\n",
      " 58/500 [==>...........................] - ETA: 21s - loss: 0.3586 - accuracy: 0.8966"
     ]
    }
   ],
   "source": [
    "history=model.fit(x_train, y_train, epochs=EPOCHS)"
   ]
  },
  {
   "cell_type": "code",
   "execution_count": 121,
   "metadata": {},
   "outputs": [
    {
     "name": "stdout",
     "output_type": "stream",
     "text": [
      "333/333 - 4s - loss: 0.0786 - accuracy: 0.9811\n"
     ]
    }
   ],
   "source": [
    "val_history=model.evaluate(x_test,  y_test, verbose=2)"
   ]
  },
  {
   "cell_type": "code",
   "execution_count": 10,
   "metadata": {},
   "outputs": [
    {
     "data": {
      "image/png": "[encoded data removed]",
      "text/plain": [
       "<Figure size 576x576 with 2 Axes>"
      ]
     },
     "metadata": {
      "needs_background": "light"
     },
     "output_type": "display_data"
    }
   ],
   "source": [
    "import matplotlib.pyplot as plt\n",
    "acc = history.history['accuracy']\n",
    "\n",
    "loss=history.history['loss']\n",
    "\n",
    "epochs_range = range(EPOCHS)\n",
    "\n",
    "plt.figure(figsize=(8, 8))\n",
    "plt.subplot(1, 2, 1)\n",
    "plt.plot(epochs_range, acc, label='Training Accuracy')\n",
    "plt.legend(loc='lower right')\n",
    "\n",
    "plt.subplot(1, 2, 2)\n",
    "plt.plot(epochs_range, loss, label='Training Loss')\n",
    "plt.legend(loc='upper right')\n",
    "plt.title('Training and Validation Loss')\n",
    "plt.show()"
   ]
  },
  {
   "cell_type": "code",
   "execution_count": null,
   "metadata": {},
   "outputs": [],
   "source": []
  }
 ],
 "metadata": {
  "kernelspec": {
   "display_name": "Python 3",
   "language": "python",
   "name": "python3"
  },
  "language_info": {
   "codemirror_mode": {
    "name": "ipython",
    "version": 3
   },
   "file_extension": ".py",
   "mimetype": "text/x-python",
   "name": "python",
   "nbconvert_exporter": "python",
   "pygments_lexer": "ipython3",
   "version": "3.7.6"
  }
 },
 "nbformat": 4,
 "nbformat_minor": 4
}
