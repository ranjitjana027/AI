{
 "cells": [
  {
   "cell_type": "code",
   "execution_count": 1,
   "metadata": {},
   "outputs": [],
   "source": [
    "import cv2\n",
    "import numpy as np\n",
    "import os\n",
    "import sys\n",
    "import tensorflow as tf"
   ]
  },
  {
   "cell_type": "code",
   "execution_count": 5,
   "metadata": {},
   "outputs": [],
   "source": [
    "from sklearn.model_selection import train_test_split\n",
    "\n",
    "EPOCHS = 10\n",
    "IMG_WIDTH = 30\n",
    "IMG_HEIGHT = 30\n",
    "NUM_CATEGORIES = 43\n",
    "TEST_SIZE = 0.4"
   ]
  },
  {
   "cell_type": "code",
   "execution_count": 6,
   "metadata": {},
   "outputs": [],
   "source": [
    "def load_data(data_dir):\n",
    "    images=[]\n",
    "    labels=[]\n",
    "    for category in os.listdir(data_dir):\n",
    "        for imfile in os.listdir(os.path.join(data_dir,category)):\n",
    "            img=cv2.imread(os.path.join(data_dir,category,imfile),1)\n",
    "            if img is not None:\n",
    "                img=cv2.resize(img,(IMG_WIDTH,IMG_HEIGHT))\n",
    "                #print(img.shape)\n",
    "                images.append(img)\n",
    "                labels.append(int(category))\n",
    "    return (images,labels)"
   ]
  },
  {
   "cell_type": "code",
   "execution_count": 68,
   "metadata": {},
   "outputs": [],
   "source": [
    "def get_model():\n",
    "    model=tf.keras.models.Sequential([\n",
    "        tf.keras.layers.Conv2D(\n",
    "            16,(3,3),activation='relu', input_shape=(IMG_WIDTH,IMG_HEIGHT,3)\n",
    "        ),\n",
    "        tf.keras.layers.Conv2D(\n",
    "            32,(3,3),activation='relu'\n",
    "        ),\n",
    "        tf.keras.layers.Conv2D(\n",
    "            32,(3,3),activation='relu'\n",
    "        ),\n",
    "        tf.keras.layers.MaxPooling2D(pool_size=(2,2)),\n",
    "        tf.keras.layers.Flatten(),\n",
    "        tf.keras.layers.Dense(128*3,activation=\"relu\"),\n",
    "        tf.keras.layers.Dense(NUM_CATEGORIES,activation=\"softmax\")\n",
    "    ])\n",
    "    model.compile(\n",
    "        optimizer=\"adam\",\n",
    "        loss=\"categorical_crossentropy\",\n",
    "        metrics=[\"accuracy\"]\n",
    "    )\n",
    "    return model"
   ]
  },
  {
   "cell_type": "code",
   "execution_count": 7,
   "metadata": {},
   "outputs": [],
   "source": [
    "images, labels = load_data('gtsrb')"
   ]
  },
  {
   "cell_type": "code",
   "execution_count": 12,
   "metadata": {},
   "outputs": [],
   "source": [
    "labels = tf.keras.utils.to_categorical(labels)\n",
    "x_train, x_test, y_train, y_test = train_test_split(\n",
    "    np.array(images), np.array(labels), test_size=TEST_SIZE\n",
    ")"
   ]
  },
  {
   "cell_type": "code",
   "execution_count": 69,
   "metadata": {},
   "outputs": [
    {
     "name": "stdout",
     "output_type": "stream",
     "text": [
      "Model: \"sequential_11\"\n",
      "_________________________________________________________________\n",
      "Layer (type)                 Output Shape              Param #   \n",
      "=================================================================\n",
      "conv2d_17 (Conv2D)           (None, 28, 28, 16)        448       \n",
      "_________________________________________________________________\n",
      "conv2d_18 (Conv2D)           (None, 26, 26, 32)        4640      \n",
      "_________________________________________________________________\n",
      "conv2d_19 (Conv2D)           (None, 24, 24, 32)        9248      \n",
      "_________________________________________________________________\n",
      "max_pooling2d_13 (MaxPooling (None, 12, 12, 32)        0         \n",
      "_________________________________________________________________\n",
      "flatten_11 (Flatten)         (None, 4608)              0         \n",
      "_________________________________________________________________\n",
      "dense_22 (Dense)             (None, 384)               1769856   \n",
      "_________________________________________________________________\n",
      "dense_23 (Dense)             (None, 43)                16555     \n",
      "=================================================================\n",
      "Total params: 1,800,747\n",
      "Trainable params: 1,800,747\n",
      "Non-trainable params: 0\n",
      "_________________________________________________________________\n"
     ]
    }
   ],
   "source": [
    "model=get_model()\n",
    "model.summary()"
   ]
  },
  {
   "cell_type": "code",
   "execution_count": 70,
   "metadata": {},
   "outputs": [
    {
     "name": "stdout",
     "output_type": "stream",
     "text": [
      "Epoch 1/10\n",
      "500/500 [==============================] - 55s 110ms/step - loss: 1.1116 - accuracy: 0.7986\n",
      "Epoch 2/10\n",
      "500/500 [==============================] - 52s 103ms/step - loss: 0.1745 - accuracy: 0.9586\n",
      "Epoch 3/10\n",
      "500/500 [==============================] - 52s 105ms/step - loss: 0.0853 - accuracy: 0.9795\n",
      "Epoch 4/10\n",
      "500/500 [==============================] - 51s 103ms/step - loss: 0.0833 - accuracy: 0.9797\n",
      "Epoch 5/10\n",
      "500/500 [==============================] - 52s 103ms/step - loss: 0.0692 - accuracy: 0.9822\n",
      "Epoch 6/10\n",
      "500/500 [==============================] - 51s 102ms/step - loss: 0.0456 - accuracy: 0.9896\n",
      "Epoch 7/10\n",
      "500/500 [==============================] - 51s 102ms/step - loss: 0.0604 - accuracy: 0.9843\n",
      "Epoch 8/10\n",
      "500/500 [==============================] - 51s 102ms/step - loss: 0.0682 - accuracy: 0.9846\n",
      "Epoch 9/10\n",
      "500/500 [==============================] - 49s 98ms/step - loss: 0.0543 - accuracy: 0.9896\n",
      "Epoch 10/10\n",
      "500/500 [==============================] - 47s 94ms/step - loss: 0.0662 - accuracy: 0.9872\n"
     ]
    }
   ],
   "source": [
    "history=model.fit(x_train, y_train, epochs=EPOCHS)"
   ]
  },
  {
   "cell_type": "code",
   "execution_count": 71,
   "metadata": {},
   "outputs": [
    {
     "name": "stdout",
     "output_type": "stream",
     "text": [
      "333/333 - 6s - loss: 0.1715 - accuracy: 0.9727\n"
     ]
    }
   ],
   "source": [
    "val_history=model.evaluate(x_test,  y_test, verbose=2)"
   ]
  },
  {
   "cell_type": "code",
   "execution_count": 72,
   "metadata": {},
   "outputs": [
    {
     "data": {
      "image/png": "[encoded data removed]",
      "text/plain": [
       "<Figure size 576x576 with 2 Axes>"
      ]
     },
     "metadata": {
      "needs_background": "light"
     },
     "output_type": "display_data"
    }
   ],
   "source": [
    "import matplotlib.pyplot as plt\n",
    "acc = history.history['accuracy']\n",
    "\n",
    "loss=history.history['loss']\n",
    "\n",
    "epochs_range = range(EPOCHS)\n",
    "\n",
    "plt.figure(figsize=(8, 8))\n",
    "plt.subplot(1, 2, 1)\n",
    "plt.plot(epochs_range, acc, label='Training Accuracy')\n",
    "plt.legend(loc='lower right')\n",
    "\n",
    "plt.subplot(1, 2, 2)\n",
    "plt.plot(epochs_range, loss, label='Training Loss')\n",
    "plt.legend(loc='upper right')\n",
    "plt.title('Training and Validation Loss')\n",
    "plt.show()"
   ]
  },
  {
   "cell_type": "code",
   "execution_count": null,
   "metadata": {},
   "outputs": [],
   "source": []
  }
 ],
 "metadata": {
  "kernelspec": {
   "display_name": "Python 3",
   "language": "python",
   "name": "python3"
  },
  "language_info": {
   "codemirror_mode": {
    "name": "ipython",
    "version": 3
   },
   "file_extension": ".py",
   "mimetype": "text/x-python",
   "name": "python",
   "nbconvert_exporter": "python",
   "pygments_lexer": "ipython3",
   "version": "3.7.6"
  }
 },
 "nbformat": 4,
 "nbformat_minor": 4
}
